{
 "cells": [
  {
   "cell_type": "code",
   "execution_count": 1,
   "metadata": {},
   "outputs": [
    {
     "data": {
      "text/plain": [
       "'Connected: appdev@appdev'"
      ]
     },
     "execution_count": 1,
     "metadata": {},
     "output_type": "execute_result"
    }
   ],
   "source": [
    "%load_ext sql\n",
    "%sql postgresql://appdev@data:5432/appdev"
   ]
  },
  {
   "cell_type": "markdown",
   "metadata": {},
   "source": [
    "# Exercise on functions\n",
    "Open a connection to your PostgreSQL database and:\n",
    "* Convert 'I HATE CAPS' to lowercase\n",
    "* Find the smallest network where both '10.2.17.12' and '10.2.16.13' are contained\n",
    "* Get the current time (both date and time to millisecond precision)\n",
    "* Sleep for 6.7 seconds and prove it using EXPLAIN ANALYZE\n",
    "* Get the md5 sum of All your base\n",
    "* Find today's day of the year (somewhere between 1 and 365)\n",
    "\n",
    "Remember, you can always execute empty SELECT statements like so: SELECT 1;\n",
    "\n",
    "Documentation is available here: https://www.postgresql.org/docs/10/static/functions.html"
   ]
  },
  {
   "cell_type": "code",
   "execution_count": 9,
   "metadata": {},
   "outputs": [
    {
     "name": "stdout",
     "output_type": "stream",
     "text": [
      "1 rows affected.\n"
     ]
    },
    {
     "data": {
      "text/html": [
       "<table>\n",
       "    <tr>\n",
       "        <th>lower</th>\n",
       "    </tr>\n",
       "    <tr>\n",
       "        <td>i hate caps</td>\n",
       "    </tr>\n",
       "</table>"
      ],
      "text/plain": [
       "[('i hate caps',)]"
      ]
     },
     "execution_count": 9,
     "metadata": {},
     "output_type": "execute_result"
    }
   ],
   "source": [
    "# Convert 'I HATE CAPS' to lowercase\n",
    "%sql SELECT lower('I HATE CAPS');"
   ]
  },
  {
   "cell_type": "code",
   "execution_count": 13,
   "metadata": {},
   "outputs": [
    {
     "name": "stdout",
     "output_type": "stream",
     "text": [
      "1 rows affected.\n"
     ]
    },
    {
     "data": {
      "text/html": [
       "<table>\n",
       "    <tr>\n",
       "        <th>inet_merge</th>\n",
       "    </tr>\n",
       "    <tr>\n",
       "        <td>10.2.16.0/23</td>\n",
       "    </tr>\n",
       "</table>"
      ],
      "text/plain": [
       "[('10.2.16.0/23',)]"
      ]
     },
     "execution_count": 13,
     "metadata": {},
     "output_type": "execute_result"
    }
   ],
   "source": [
    "# Find the smallest network where both '10.2.17.12' and '10.2.16.13' are contained\n",
    "%sql SELECT inet_merge('10.2.17.12', '10.2.16.13');"
   ]
  },
  {
   "cell_type": "code",
   "execution_count": 15,
   "metadata": {},
   "outputs": [
    {
     "name": "stdout",
     "output_type": "stream",
     "text": [
      "1 rows affected.\n"
     ]
    },
    {
     "data": {
      "text/html": [
       "<table>\n",
       "    <tr>\n",
       "        <th>now</th>\n",
       "    </tr>\n",
       "    <tr>\n",
       "        <td>2018-03-22 11:55:26.578927+00:00</td>\n",
       "    </tr>\n",
       "</table>"
      ],
      "text/plain": [
       "[(datetime.datetime(2018, 3, 22, 11, 55, 26, 578927, tzinfo=psycopg2.tz.FixedOffsetTimezone(offset=0, name=None)),)]"
      ]
     },
     "execution_count": 15,
     "metadata": {},
     "output_type": "execute_result"
    }
   ],
   "source": [
    "# Get the current time (both date and time to millisecond precision)\n",
    "%sql SELECT now();"
   ]
  },
  {
   "cell_type": "code",
   "execution_count": 11,
   "metadata": {},
   "outputs": [
    {
     "name": "stdout",
     "output_type": "stream",
     "text": [
      "3 rows affected.\n"
     ]
    },
    {
     "data": {
      "text/html": [
       "<table>\n",
       "    <tr>\n",
       "        <th>QUERY PLAN</th>\n",
       "    </tr>\n",
       "    <tr>\n",
       "        <td>Result  (cost=0.00..0.01 rows=1 width=4) (actual time=6708.748..6708.749 rows=1 loops=1)</td>\n",
       "    </tr>\n",
       "    <tr>\n",
       "        <td>Planning time: 0.040 ms</td>\n",
       "    </tr>\n",
       "    <tr>\n",
       "        <td>Execution time: 6708.813 ms</td>\n",
       "    </tr>\n",
       "</table>"
      ],
      "text/plain": [
       "[('Result  (cost=0.00..0.01 rows=1 width=4) (actual time=6708.748..6708.749 rows=1 loops=1)',),\n",
       " ('Planning time: 0.040 ms',),\n",
       " ('Execution time: 6708.813 ms',)]"
      ]
     },
     "execution_count": 11,
     "metadata": {},
     "output_type": "execute_result"
    }
   ],
   "source": [
    "# Sleep for 6.7 seconds and prove it using EXPLAIN ANALYZE\n",
    "%sql EXPLAIN ANALYZE SELECT pg_sleep(6.7);"
   ]
  },
  {
   "cell_type": "code",
   "execution_count": 18,
   "metadata": {},
   "outputs": [
    {
     "name": "stdout",
     "output_type": "stream",
     "text": [
      "1 rows affected.\n"
     ]
    },
    {
     "data": {
      "text/html": [
       "<table>\n",
       "    <tr>\n",
       "        <th>md5</th>\n",
       "    </tr>\n",
       "    <tr>\n",
       "        <td>30a3a536285ebe1e0eb8d3627cbde553</td>\n",
       "    </tr>\n",
       "</table>"
      ],
      "text/plain": [
       "[('30a3a536285ebe1e0eb8d3627cbde553',)]"
      ]
     },
     "execution_count": 18,
     "metadata": {},
     "output_type": "execute_result"
    }
   ],
   "source": [
    "# Get the md5 sum of All your base\n",
    "%sql SELECT md5('All your base');"
   ]
  },
  {
   "cell_type": "code",
   "execution_count": 20,
   "metadata": {},
   "outputs": [
    {
     "name": "stdout",
     "output_type": "stream",
     "text": [
      "1 rows affected.\n"
     ]
    },
    {
     "data": {
      "text/html": [
       "<table>\n",
       "    <tr>\n",
       "        <th>date_part</th>\n",
       "    </tr>\n",
       "    <tr>\n",
       "        <td>81.0</td>\n",
       "    </tr>\n",
       "</table>"
      ],
      "text/plain": [
       "[(81.0,)]"
      ]
     },
     "execution_count": 20,
     "metadata": {},
     "output_type": "execute_result"
    }
   ],
   "source": [
    "# Find today's day of the year (somewhere between 1 and 365)\n",
    "%sql SELECT date_part('doy', now());"
   ]
  },
  {
   "cell_type": "markdown",
   "metadata": {},
   "source": [
    "# Graph Exercise"
   ]
  },
  {
   "cell_type": "code",
   "execution_count": 21,
   "metadata": {},
   "outputs": [],
   "source": [
    "# This will allow you to plot your graphs\n",
    "%matplotlib inline"
   ]
  },
  {
   "cell_type": "code",
   "execution_count": 24,
   "metadata": {},
   "outputs": [
    {
     "name": "stdout",
     "output_type": "stream",
     "text": [
      "13 rows affected.\n"
     ]
    }
   ],
   "source": [
    "result = %sql SELECT lang, count(*) FROM tweet GROUP BY lang ORDER BY count(*) DESC;"
   ]
  },
  {
   "cell_type": "code",
   "execution_count": 25,
   "metadata": {},
   "outputs": [
    {
     "data": {
      "text/plain": [
       "<Container object of 13 artists>"
      ]
     },
     "execution_count": 25,
     "metadata": {},
     "output_type": "execute_result"
    },
    {
     "data": {
      "image/png": "[encoded data removed]",
      "text/plain": [
       "<matplotlib.figure.Figure at 0x7efc0c59a7b8>"
      ]
     },
     "metadata": {},
     "output_type": "display_data"
    }
   ],
   "source": [
    "result.bar()"
   ]
  },
  {
   "cell_type": "markdown",
   "metadata": {},
   "source": [
    "# Grouping Exercise\n",
    "Using `GROUP BY` on the `public.tweet` table:\n",
    "* 1. Group tweets by country and aggregate on the total number of tweets from that country\n",
    "* 2. Group tweets by place and aggregate on the earliest timestamp (you can concatenate two fields with +)\n",
    "* 3. Find the 10 places with the most users registered"
   ]
  },
  {
   "cell_type": "code",
   "execution_count": 26,
   "metadata": {},
   "outputs": [
    {
     "name": "stdout",
     "output_type": "stream",
     "text": [
      "10 rows affected.\n"
     ]
    },
    {
     "data": {
      "text/html": [
       "<table>\n",
       "    <tr>\n",
       "        <th>country</th>\n",
       "        <th>count</th>\n",
       "    </tr>\n",
       "    <tr>\n",
       "        <td>US</td>\n",
       "        <td>178507</td>\n",
       "    </tr>\n",
       "    <tr>\n",
       "        <td>MX</td>\n",
       "        <td>20016</td>\n",
       "    </tr>\n",
       "    <tr>\n",
       "        <td>CA</td>\n",
       "        <td>5800</td>\n",
       "    </tr>\n",
       "    <tr>\n",
       "        <td>None</td>\n",
       "        <td>270</td>\n",
       "    </tr>\n",
       "    <tr>\n",
       "        <td>BS</td>\n",
       "        <td>112</td>\n",
       "    </tr>\n",
       "    <tr>\n",
       "        <td>CU</td>\n",
       "        <td>106</td>\n",
       "    </tr>\n",
       "    <tr>\n",
       "        <td>FR</td>\n",
       "        <td>4</td>\n",
       "    </tr>\n",
       "    <tr>\n",
       "        <td>GB</td>\n",
       "        <td>3</td>\n",
       "    </tr>\n",
       "    <tr>\n",
       "        <td>GY</td>\n",
       "        <td>1</td>\n",
       "    </tr>\n",
       "    <tr>\n",
       "        <td>KR</td>\n",
       "        <td>1</td>\n",
       "    </tr>\n",
       "</table>"
      ],
      "text/plain": [
       "[('US', 178507),\n",
       " ('MX', 20016),\n",
       " ('CA', 5800),\n",
       " (None, 270),\n",
       " ('BS', 112),\n",
       " ('CU', 106),\n",
       " ('FR', 4),\n",
       " ('GB', 3),\n",
       " ('GY', 1),\n",
       " ('KR', 1)]"
      ]
     },
     "execution_count": 26,
     "metadata": {},
     "output_type": "execute_result"
    }
   ],
   "source": [
    "# 1. Group tweets by country and aggregate on the total number of tweets from that country\n",
    "%sql SELECT country, count(*) FROM public.tweet GROUP BY country ORDER BY count(*) DESC;"
   ]
  },
  {
   "cell_type": "code",
   "execution_count": 55,
   "metadata": {},
   "outputs": [
    {
     "name": "stdout",
     "output_type": "stream",
     "text": [
      "10 rows affected.\n"
     ]
    },
    {
     "data": {
      "text/html": [
       "<table>\n",
       "    <tr>\n",
       "        <th>place</th>\n",
       "        <th>m</th>\n",
       "    </tr>\n",
       "    <tr>\n",
       "        <td>Indianapolis, IN</td>\n",
       "        <td>2016-04-14 10:05:00</td>\n",
       "    </tr>\n",
       "    <tr>\n",
       "        <td>Louisville, KY</td>\n",
       "        <td>2016-04-14 10:05:00</td>\n",
       "    </tr>\n",
       "    <tr>\n",
       "        <td>Detroit, MI</td>\n",
       "        <td>2016-04-14 10:05:00</td>\n",
       "    </tr>\n",
       "    <tr>\n",
       "        <td>Grass Valley, CA</td>\n",
       "        <td>2016-04-14 10:05:00</td>\n",
       "    </tr>\n",
       "    <tr>\n",
       "        <td>California, USA</td>\n",
       "        <td>2016-04-14 10:05:00</td>\n",
       "    </tr>\n",
       "    <tr>\n",
       "        <td>Mableton, GA</td>\n",
       "        <td>2016-04-14 10:05:00</td>\n",
       "    </tr>\n",
       "    <tr>\n",
       "        <td>Westbury, NY</td>\n",
       "        <td>2016-04-14 10:05:00</td>\n",
       "    </tr>\n",
       "    <tr>\n",
       "        <td>Kentucky, USA</td>\n",
       "        <td>2016-04-14 10:05:00</td>\n",
       "    </tr>\n",
       "    <tr>\n",
       "        <td>Tulsa, OK</td>\n",
       "        <td>2016-04-14 10:05:00</td>\n",
       "    </tr>\n",
       "    <tr>\n",
       "        <td>Los Angeles, CA</td>\n",
       "        <td>2016-04-14 10:05:00</td>\n",
       "    </tr>\n",
       "</table>"
      ],
      "text/plain": [
       "[('Indianapolis, IN', datetime.datetime(2016, 4, 14, 10, 5)),\n",
       " ('Louisville, KY', datetime.datetime(2016, 4, 14, 10, 5)),\n",
       " ('Detroit, MI', datetime.datetime(2016, 4, 14, 10, 5)),\n",
       " ('Grass Valley, CA', datetime.datetime(2016, 4, 14, 10, 5)),\n",
       " ('California, USA', datetime.datetime(2016, 4, 14, 10, 5)),\n",
       " ('Mableton, GA', datetime.datetime(2016, 4, 14, 10, 5)),\n",
       " ('Westbury, NY', datetime.datetime(2016, 4, 14, 10, 5)),\n",
       " ('Kentucky, USA', datetime.datetime(2016, 4, 14, 10, 5)),\n",
       " ('Tulsa, OK', datetime.datetime(2016, 4, 14, 10, 5)),\n",
       " ('Los Angeles, CA', datetime.datetime(2016, 4, 14, 10, 5))]"
      ]
     },
     "execution_count": 55,
     "metadata": {},
     "output_type": "execute_result"
    }
   ],
   "source": [
    "# 2. Group tweets by place and aggregate on the earliest timestamp (you can concatenate two fields with +)\n",
    "%sql SELECT place, min(date+hour) AS m FROM public.tweet GROUP BY place ORDER BY m ASC LIMIT 10;"
   ]
  },
  {
   "cell_type": "code",
   "execution_count": 83,
   "metadata": {},
   "outputs": [
    {
     "name": "stdout",
     "output_type": "stream",
     "text": [
      "10 rows affected.\n"
     ]
    },
    {
     "data": {
      "text/html": [
       "<table>\n",
       "    <tr>\n",
       "        <th>place</th>\n",
       "        <th>user_count</th>\n",
       "    </tr>\n",
       "    <tr>\n",
       "        <td>Manhattan, NY</td>\n",
       "        <td>4480</td>\n",
       "    </tr>\n",
       "    <tr>\n",
       "        <td>Los Angeles, CA</td>\n",
       "        <td>3738</td>\n",
       "    </tr>\n",
       "    <tr>\n",
       "        <td>Cuauhtémoc, Distrito Federal</td>\n",
       "        <td>1895</td>\n",
       "    </tr>\n",
       "    <tr>\n",
       "        <td>Chicago, IL</td>\n",
       "        <td>1755</td>\n",
       "    </tr>\n",
       "    <tr>\n",
       "        <td>California, USA</td>\n",
       "        <td>1527</td>\n",
       "    </tr>\n",
       "    <tr>\n",
       "        <td>Florida, USA</td>\n",
       "        <td>1208</td>\n",
       "    </tr>\n",
       "    <tr>\n",
       "        <td>Toronto, Ontario</td>\n",
       "        <td>1162</td>\n",
       "    </tr>\n",
       "    <tr>\n",
       "        <td>Brooklyn, NY</td>\n",
       "        <td>1138</td>\n",
       "    </tr>\n",
       "    <tr>\n",
       "        <td>San Francisco, CA</td>\n",
       "        <td>1134</td>\n",
       "    </tr>\n",
       "    <tr>\n",
       "        <td>Atlanta, GA</td>\n",
       "        <td>1102</td>\n",
       "    </tr>\n",
       "</table>"
      ],
      "text/plain": [
       "[('Manhattan, NY', 4480),\n",
       " ('Los Angeles, CA', 3738),\n",
       " ('Cuauhtémoc, Distrito Federal', 1895),\n",
       " ('Chicago, IL', 1755),\n",
       " ('California, USA', 1527),\n",
       " ('Florida, USA', 1208),\n",
       " ('Toronto, Ontario', 1162),\n",
       " ('Brooklyn, NY', 1138),\n",
       " ('San Francisco, CA', 1134),\n",
       " ('Atlanta, GA', 1102)]"
      ]
     },
     "execution_count": 83,
     "metadata": {},
     "output_type": "execute_result"
    }
   ],
   "source": [
    "#3 . Find the 10 places with the most users registered\n",
    "%sql SELECT place, count(DISTINCT(nickname)) as user_count FROM public.tweet GROUP BY place ORDER BY user_count DESC LIMIT 10;"
   ]
  },
  {
   "cell_type": "markdown",
   "metadata": {},
   "source": [
    "# Trigger Exercise\n",
    "The table hello contains two columns (language and hello) and contains translation of \"hello\" in different languages. We want to audit whenever someone inserted a new language.\n",
    "\n",
    "1. Create a table called hello_log containing two columns: language varchar and time timestamp\n",
    "\n",
    "2. Create a trigger function that inserts a row into your hello_log containing the name of the new language (NEW.language) and the current timestamp on insertion (now())\n",
    "Note: This is NOT a trigger, just a function that returns a trigger\n",
    "\n",
    "3. Create a trigger that triggers your trigger function when someone inserts a new language\n",
    "\n",
    "4. Try to insert the new language brainfuck with the value ++++++++[>++++[>++>+++>+++>+<<<<-]>+>+>->>+[<]<-]>>.>---.+++++++..+++.>>.<-.<.+++.------.--------.>>+.>++."
   ]
  },
  {
   "cell_type": "code",
   "execution_count": 84,
   "metadata": {},
   "outputs": [
    {
     "name": "stdout",
     "output_type": "stream",
     "text": [
      "Done.\n"
     ]
    },
    {
     "data": {
      "text/plain": [
       "[]"
      ]
     },
     "execution_count": 84,
     "metadata": {},
     "output_type": "execute_result"
    }
   ],
   "source": [
    "# Create a table called hello_log containing two columns: language varchar and time timestamp\n",
    "%%sql CREATE TABLE hello_log (\n",
    "language varchar,\n",
    "time timestamp\n",
    ");"
   ]
  },
  {
   "cell_type": "code",
   "execution_count": 99,
   "metadata": {},
   "outputs": [
    {
     "name": "stdout",
     "output_type": "stream",
     "text": [
      "Done.\n"
     ]
    },
    {
     "data": {
      "text/plain": [
       "[]"
      ]
     },
     "execution_count": 99,
     "metadata": {},
     "output_type": "execute_result"
    }
   ],
   "source": [
    "# Create a trigger function that inserts a row into your hello_log containing the name of the new language (NEW.language) and the current timestamp on insertion (now()) \n",
    "# Note: This is NOT a trigger, just a function that returns a trigger\n",
    "%%sql\n",
    "CREATE FUNCTION insert_row_hello()\n",
    "  RETURNS trigger AS\n",
    "$$\n",
    "BEGIN\n",
    "    INSERT INTO hello_log (language, time) VALUES(NEW.language, now());\n",
    "    RETURN NEW;\n",
    "END\n",
    "$$\n",
    "LANGUAGE PLPGSQL;"
   ]
  },
  {
   "cell_type": "code",
   "execution_count": 100,
   "metadata": {},
   "outputs": [
    {
     "name": "stdout",
     "output_type": "stream",
     "text": [
      "Done.\n"
     ]
    },
    {
     "data": {
      "text/plain": [
       "[]"
      ]
     },
     "execution_count": 100,
     "metadata": {},
     "output_type": "execute_result"
    }
   ],
   "source": [
    "# Create a trigger that triggers your trigger function when someone inserts a new language\n",
    "%%sql\n",
    "CREATE TRIGGER insert_trigger\n",
    "    BEFORE INSERT ON hello                 \n",
    "    FOR EACH ROW\n",
    "    EXECUTE PROCEDURE insert_row_hello()"
   ]
  },
  {
   "cell_type": "code",
   "execution_count": 102,
   "metadata": {},
   "outputs": [
    {
     "name": "stdout",
     "output_type": "stream",
     "text": [
      "1 rows affected.\n"
     ]
    },
    {
     "data": {
      "text/plain": [
       "[]"
      ]
     },
     "execution_count": 102,
     "metadata": {},
     "output_type": "execute_result"
    }
   ],
   "source": [
    "# Try to insert the new language brainfuck with the value ++++++++[>++++[>++>+++>+++>+<<<<-]>+>+>->>+[<]<-]>>.>---.+++++++..+++.>>.<-.<.+++.------.--------.>>+.>++.\n",
    "%sql INSERT INTO hello VALUES('brainfuck', '++++++++[>++++[>++>+++>+++>+<<<<-]>+>+>->>+[<]<-]>>.>---.+++++++..+++.>>.<-.<.+++.------.--------.>>+.>++.');"
   ]
  },
  {
   "cell_type": "code",
   "execution_count": 103,
   "metadata": {},
   "outputs": [
    {
     "name": "stdout",
     "output_type": "stream",
     "text": [
      "1 rows affected.\n"
     ]
    },
    {
     "data": {
      "text/html": [
       "<table>\n",
       "    <tr>\n",
       "        <th>language</th>\n",
       "        <th>time</th>\n",
       "    </tr>\n",
       "    <tr>\n",
       "        <td>brainfuck</td>\n",
       "        <td>2018-03-22 14:15:53.317040</td>\n",
       "    </tr>\n",
       "</table>"
      ],
      "text/plain": [
       "[('brainfuck', datetime.datetime(2018, 3, 22, 14, 15, 53, 317040))]"
      ]
     },
     "execution_count": 103,
     "metadata": {},
     "output_type": "execute_result"
    }
   ],
   "source": [
    "%sql SELECT * FROM hello_log;"
   ]
  },
  {
   "cell_type": "code",
   "execution_count": 104,
   "metadata": {},
   "outputs": [
    {
     "name": "stdout",
     "output_type": "stream",
     "text": [
      "1 rows affected.\n"
     ]
    },
    {
     "data": {
      "text/html": [
       "<table>\n",
       "    <tr>\n",
       "        <th>language</th>\n",
       "        <th>hello</th>\n",
       "    </tr>\n",
       "    <tr>\n",
       "        <td>brainfuck</td>\n",
       "        <td>++++++++[&gt;++++[&gt;++&gt;+++&gt;+++&gt;+&lt;&lt;&lt;&lt;-]&gt;+&gt;+&gt;-&gt;&gt;+[&lt;]&lt;-]&gt;&gt;.&gt;---.+++++++..+++.&gt;&gt;.&lt;-.&lt;.+++.------.--------.&gt;&gt;+.&gt;++.</td>\n",
       "    </tr>\n",
       "</table>"
      ],
      "text/plain": [
       "[('brainfuck', '++++++++[>++++[>++>+++>+++>+<<<<-]>+>+>->>+[<]<-]>>.>---.+++++++..+++.>>.<-.<.+++.------.--------.>>+.>++.')]"
      ]
     },
     "execution_count": 104,
     "metadata": {},
     "output_type": "execute_result"
    }
   ],
   "source": [
    "%sql SELECT * FROM hello WHERE language = 'brainfuck';"
   ]
  },
  {
   "cell_type": "code",
   "execution_count": null,
   "metadata": {},
   "outputs": [],
   "source": []
  }
 ],
 "metadata": {
  "kernelspec": {
   "display_name": "Python 3",
   "language": "python",
   "name": "python3"
  },
  "language_info": {
   "codemirror_mode": {
    "name": "ipython",
    "version": 3
   },
   "file_extension": ".py",
   "mimetype": "text/x-python",
   "name": "python",
   "nbconvert_exporter": "python",
   "pygments_lexer": "ipython3",
   "version": "3.6.3"
  }
 },
 "nbformat": 4,
 "nbformat_minor": 2
}
