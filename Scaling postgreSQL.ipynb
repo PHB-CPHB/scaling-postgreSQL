{
 "cells": [
  {
   "cell_type": "markdown",
   "metadata": {},
   "source": [
    "# Scaling PostgreSQL\n",
    "## Database Assignment 7 (Not Mandatory)\n",
    "\n",
    "### 1. Using a single join and a grouping, write a query that allows you to find the forename, surname, driverid and the total number of wins for each driver in the f1db schema."
   ]
  },
  {
   "cell_type": "code",
   "execution_count": 121,
   "metadata": {},
   "outputs": [
    {
     "name": "stdout",
     "output_type": "stream",
     "text": [
      "5 rows affected.\n"
     ]
    },
    {
     "data": {
      "text/html": [
       "<table>\n",
       "    <tr>\n",
       "        <th>driverid</th>\n",
       "        <th>forename</th>\n",
       "        <th>surname</th>\n",
       "        <th>wins</th>\n",
       "    </tr>\n",
       "    <tr>\n",
       "        <td>30</td>\n",
       "        <td>Michael</td>\n",
       "        <td>Schumacher</td>\n",
       "        <td>91</td>\n",
       "    </tr>\n",
       "    <tr>\n",
       "        <td>1</td>\n",
       "        <td>Lewis</td>\n",
       "        <td>Hamilton</td>\n",
       "        <td>60</td>\n",
       "    </tr>\n",
       "    <tr>\n",
       "        <td>117</td>\n",
       "        <td>Alain</td>\n",
       "        <td>Prost</td>\n",
       "        <td>51</td>\n",
       "    </tr>\n",
       "    <tr>\n",
       "        <td>20</td>\n",
       "        <td>Sebastian</td>\n",
       "        <td>Vettel</td>\n",
       "        <td>46</td>\n",
       "    </tr>\n",
       "    <tr>\n",
       "        <td>102</td>\n",
       "        <td>Ayrton</td>\n",
       "        <td>Senna</td>\n",
       "        <td>41</td>\n",
       "    </tr>\n",
       "</table>"
      ],
      "text/plain": [
       "[(30, 'Michael', 'Schumacher', 91),\n",
       " (1, 'Lewis', 'Hamilton', 60),\n",
       " (117, 'Alain', 'Prost', 51),\n",
       " (20, 'Sebastian', 'Vettel', 46),\n",
       " (102, 'Ayrton', 'Senna', 41)]"
      ]
     },
     "execution_count": 121,
     "metadata": {},
     "output_type": "execute_result"
    }
   ],
   "source": [
    "%%sql SELECT \n",
    "    drivers.driverid as driverId,\n",
    "    drivers.forename as forename,\n",
    "    drivers.surname as surname,\n",
    "    count(results.position) as wins\n",
    "FROM drivers\n",
    "JOIN results USING (driverid)\n",
    "WHERE results.position = 1 \n",
    "GROUP BY (drivers.driverid) \n",
    "ORDER BY wins DESC\n",
    "LIMIT 5;"
   ]
  },
  {
   "cell_type": "markdown",
   "metadata": {},
   "source": [
    "### 2. Write a query that joins the tables results, constructors and drivers to show the amount of times a driver has driven a car from a constructor. In other words how many times one driver (for instance Schumacher) has driven a constructor (for instance Mercedes). Your table should have three fields: drivers.driverref, constructors.name and count(*) (showing the number of times the driver has driven the constructor).\n",
    "Hint: You can group on more than one value"
   ]
  },
  {
   "cell_type": "code",
   "execution_count": 122,
   "metadata": {},
   "outputs": [
    {
     "name": "stdout",
     "output_type": "stream",
     "text": [
      "5 rows affected.\n"
     ]
    },
    {
     "data": {
      "text/html": [
       "<table>\n",
       "    <tr>\n",
       "        <th>driver</th>\n",
       "        <th>constructor</th>\n",
       "        <th>time</th>\n",
       "    </tr>\n",
       "    <tr>\n",
       "        <td>michael_schumacher</td>\n",
       "        <td>Ferrari</td>\n",
       "        <td>181</td>\n",
       "    </tr>\n",
       "    <tr>\n",
       "        <td>coulthard</td>\n",
       "        <td>McLaren</td>\n",
       "        <td>150</td>\n",
       "    </tr>\n",
       "    <tr>\n",
       "        <td>massa</td>\n",
       "        <td>Ferrari</td>\n",
       "        <td>140</td>\n",
       "    </tr>\n",
       "    <tr>\n",
       "        <td>button</td>\n",
       "        <td>McLaren</td>\n",
       "        <td>137</td>\n",
       "    </tr>\n",
       "    <tr>\n",
       "        <td>rosberg</td>\n",
       "        <td>Mercedes</td>\n",
       "        <td>136</td>\n",
       "    </tr>\n",
       "</table>"
      ],
      "text/plain": [
       "[('michael_schumacher', 'Ferrari', 181),\n",
       " ('coulthard', 'McLaren', 150),\n",
       " ('massa', 'Ferrari', 140),\n",
       " ('button', 'McLaren', 137),\n",
       " ('rosberg', 'Mercedes', 136)]"
      ]
     },
     "execution_count": 122,
     "metadata": {},
     "output_type": "execute_result"
    }
   ],
   "source": [
    "%%sql SELECT \n",
    "    drivers.driverref as driver,\n",
    "    constructors.name as constructor,\n",
    "    count(*) as time\n",
    "FROM drivers\n",
    "JOIN results USING (driverid)\n",
    "JOIN constructors USING (constructorid)\n",
    "GROUP BY (constructors.name, drivers.driverref) \n",
    "ORDER BY time DESC\n",
    "LIMIT 5;"
   ]
  },
  {
   "cell_type": "markdown",
   "metadata": {},
   "source": [
    "### 3. Now we have found the most driven vehicles even for those who didn't finish the race. Extend the query from 2 by removing all tuples from the result where the status is not \"Finished\"."
   ]
  },
  {
   "cell_type": "code",
   "execution_count": 41,
   "metadata": {},
   "outputs": [
    {
     "name": "stdout",
     "output_type": "stream",
     "text": [
      "Done.\n",
      "Done.\n"
     ]
    },
    {
     "data": {
      "text/plain": [
       "[]"
      ]
     },
     "execution_count": 41,
     "metadata": {},
     "output_type": "execute_result"
    }
   ],
   "source": [
    "%%sql\n",
    "DROP VIEW IF EXISTS constructor_finished;\n",
    "CREATE VIEW constructor_finished AS \n",
    "SELECT \n",
    "    drivers.driverref as driver,\n",
    "    constructors.name as constructor,\n",
    "    count(*) as time\n",
    "FROM drivers\n",
    "JOIN results USING (driverid)\n",
    "JOIN constructors USING (constructorid)\n",
    "WHERE results.statusid = 1\n",
    "GROUP BY (constructors.name, drivers.driverref) \n",
    "ORDER BY time DESC;"
   ]
  },
  {
   "cell_type": "code",
   "execution_count": 19,
   "metadata": {},
   "outputs": [
    {
     "name": "stdout",
     "output_type": "stream",
     "text": [
      "10 rows affected.\n"
     ]
    },
    {
     "data": {
      "text/html": [
       "<table>\n",
       "    <tr>\n",
       "        <th>driver</th>\n",
       "        <th>constructor</th>\n",
       "        <th>time</th>\n",
       "    </tr>\n",
       "    <tr>\n",
       "        <td>michael_schumacher</td>\n",
       "        <td>Ferrari</td>\n",
       "        <td>141</td>\n",
       "    </tr>\n",
       "    <tr>\n",
       "        <td>massa</td>\n",
       "        <td>Ferrari</td>\n",
       "        <td>112</td>\n",
       "    </tr>\n",
       "    <tr>\n",
       "        <td>rosberg</td>\n",
       "        <td>Mercedes</td>\n",
       "        <td>109</td>\n",
       "    </tr>\n",
       "    <tr>\n",
       "        <td>webber</td>\n",
       "        <td>Red Bull</td>\n",
       "        <td>100</td>\n",
       "    </tr>\n",
       "    <tr>\n",
       "        <td>vettel</td>\n",
       "        <td>Red Bull</td>\n",
       "        <td>97</td>\n",
       "    </tr>\n",
       "    <tr>\n",
       "        <td>raikkonen</td>\n",
       "        <td>Ferrari</td>\n",
       "        <td>92</td>\n",
       "    </tr>\n",
       "    <tr>\n",
       "        <td>alonso</td>\n",
       "        <td>Ferrari</td>\n",
       "        <td>87</td>\n",
       "    </tr>\n",
       "    <tr>\n",
       "        <td>button</td>\n",
       "        <td>McLaren</td>\n",
       "        <td>87</td>\n",
       "    </tr>\n",
       "    <tr>\n",
       "        <td>coulthard</td>\n",
       "        <td>McLaren</td>\n",
       "        <td>85</td>\n",
       "    </tr>\n",
       "    <tr>\n",
       "        <td>hamilton</td>\n",
       "        <td>Mercedes</td>\n",
       "        <td>85</td>\n",
       "    </tr>\n",
       "</table>"
      ],
      "text/plain": [
       "[('michael_schumacher', 'Ferrari', 141),\n",
       " ('massa', 'Ferrari', 112),\n",
       " ('rosberg', 'Mercedes', 109),\n",
       " ('webber', 'Red Bull', 100),\n",
       " ('vettel', 'Red Bull', 97),\n",
       " ('raikkonen', 'Ferrari', 92),\n",
       " ('alonso', 'Ferrari', 87),\n",
       " ('button', 'McLaren', 87),\n",
       " ('coulthard', 'McLaren', 85),\n",
       " ('hamilton', 'Mercedes', 85)]"
      ]
     },
     "execution_count": 19,
     "metadata": {},
     "output_type": "execute_result"
    }
   ],
   "source": [
    "%%sql SELECT \n",
    "    drivers.driverref as driver,\n",
    "    constructors.name as constructor,\n",
    "    count(*) as time\n",
    "FROM drivers\n",
    "JOIN results USING (driverid)\n",
    "JOIN constructors USING (constructorid)\n",
    "WHERE results.statusid = 1\n",
    "GROUP BY (constructors.name, drivers.driverref) \n",
    "ORDER BY time DESC\n",
    "LIMIT 10;"
   ]
  },
  {
   "cell_type": "markdown",
   "metadata": {},
   "source": [
    "### 4. Create a third (and new) query that finds the amount of milliseconds spent in pitstop (see the pitstops relation) by each unique combinations of driverid and raceid.\n",
    "Hint: use the sum aggregate function to find the total amount of milliseconds\n",
    "Hint: i recommend making this into a view"
   ]
  },
  {
   "cell_type": "code",
   "execution_count": 53,
   "metadata": {},
   "outputs": [
    {
     "name": "stdout",
     "output_type": "stream",
     "text": [
      "Done.\n",
      "Done.\n"
     ]
    },
    {
     "data": {
      "text/plain": [
       "[]"
      ]
     },
     "execution_count": 53,
     "metadata": {},
     "output_type": "execute_result"
    }
   ],
   "source": [
    "%%sql \n",
    "DROP VIEW IF EXISTS pitstop_times;\n",
    "CREATE VIEW pitstop_times AS SELECT \n",
    "    drivers.driverref as driver_ref,\n",
    "    drivers.driverid as driver_id,\n",
    "    races.raceid as race_id,\n",
    "    count(pitstops.driverid) as times,\n",
    "    sum(pitstops.milliseconds) as milliseconds\n",
    "FROM drivers\n",
    "JOIN pitstops USING (driverid)\n",
    "JOIN races USING (raceid)\n",
    "GROUP BY (drivers.driverid, races.raceid);"
   ]
  },
  {
   "cell_type": "code",
   "execution_count": 54,
   "metadata": {},
   "outputs": [
    {
     "name": "stdout",
     "output_type": "stream",
     "text": [
      "5 rows affected.\n"
     ]
    },
    {
     "data": {
      "text/html": [
       "<table>\n",
       "    <tr>\n",
       "        <th>driver_ref</th>\n",
       "        <th>driver_id</th>\n",
       "        <th>race_id</th>\n",
       "        <th>times</th>\n",
       "        <th>milliseconds</th>\n",
       "    </tr>\n",
       "    <tr>\n",
       "        <td>ricciardo</td>\n",
       "        <td>817</td>\n",
       "        <td>967</td>\n",
       "        <td>5</td>\n",
       "        <td>3572090</td>\n",
       "    </tr>\n",
       "    <tr>\n",
       "        <td>button</td>\n",
       "        <td>18</td>\n",
       "        <td>967</td>\n",
       "        <td>5</td>\n",
       "        <td>3569001</td>\n",
       "    </tr>\n",
       "    <tr>\n",
       "        <td>max_verstappen</td>\n",
       "        <td>830</td>\n",
       "        <td>967</td>\n",
       "        <td>5</td>\n",
       "        <td>3563738</td>\n",
       "    </tr>\n",
       "    <tr>\n",
       "        <td>massa</td>\n",
       "        <td>13</td>\n",
       "        <td>967</td>\n",
       "        <td>4</td>\n",
       "        <td>3554774</td>\n",
       "    </tr>\n",
       "    <tr>\n",
       "        <td>kvyat</td>\n",
       "        <td>826</td>\n",
       "        <td>967</td>\n",
       "        <td>4</td>\n",
       "        <td>3546767</td>\n",
       "    </tr>\n",
       "</table>"
      ],
      "text/plain": [
       "[('ricciardo', 817, 967, 5, Decimal('3572090')),\n",
       " ('button', 18, 967, 5, Decimal('3569001')),\n",
       " ('max_verstappen', 830, 967, 5, Decimal('3563738')),\n",
       " ('massa', 13, 967, 4, Decimal('3554774')),\n",
       " ('kvyat', 826, 967, 4, Decimal('3546767'))]"
      ]
     },
     "execution_count": 54,
     "metadata": {},
     "output_type": "execute_result"
    }
   ],
   "source": [
    "%sql SELECT * FROM pitstop_times ORDER BY milliseconds DESC LIMIT 5 ;"
   ]
  },
  {
   "cell_type": "markdown",
   "metadata": {},
   "source": [
    "### 5. Time to put everything together. Use the query for 4 as a join subquery in query 3 (see slides on \"a query within a query\") to find the total amount of pitstop time, for each result in query 3"
   ]
  },
  {
   "cell_type": "code",
   "execution_count": 65,
   "metadata": {},
   "outputs": [
    {
     "name": "stdout",
     "output_type": "stream",
     "text": [
      "10 rows affected.\n"
     ]
    },
    {
     "data": {
      "text/html": [
       "<table>\n",
       "    <tr>\n",
       "        <th>driver_ref</th>\n",
       "        <th>constructor_name</th>\n",
       "        <th>sum</th>\n",
       "    </tr>\n",
       "    <tr>\n",
       "        <td>hamilton</td>\n",
       "        <td>Mercedes</td>\n",
       "        <td>12428578</td>\n",
       "    </tr>\n",
       "    <tr>\n",
       "        <td>rosberg</td>\n",
       "        <td>Mercedes</td>\n",
       "        <td>12390412</td>\n",
       "    </tr>\n",
       "    <tr>\n",
       "        <td>perez</td>\n",
       "        <td>Force India</td>\n",
       "        <td>11876732</td>\n",
       "    </tr>\n",
       "    <tr>\n",
       "        <td>massa</td>\n",
       "        <td>Williams</td>\n",
       "        <td>11874456</td>\n",
       "    </tr>\n",
       "    <tr>\n",
       "        <td>ricciardo</td>\n",
       "        <td>Red Bull</td>\n",
       "        <td>11816929</td>\n",
       "    </tr>\n",
       "    <tr>\n",
       "        <td>button</td>\n",
       "        <td>McLaren</td>\n",
       "        <td>11800713</td>\n",
       "    </tr>\n",
       "    <tr>\n",
       "        <td>bottas</td>\n",
       "        <td>Williams</td>\n",
       "        <td>10665109</td>\n",
       "    </tr>\n",
       "    <tr>\n",
       "        <td>hulkenberg</td>\n",
       "        <td>Force India</td>\n",
       "        <td>10198930</td>\n",
       "    </tr>\n",
       "    <tr>\n",
       "        <td>vettel</td>\n",
       "        <td>Ferrari</td>\n",
       "        <td>9248461</td>\n",
       "    </tr>\n",
       "    <tr>\n",
       "        <td>nasr</td>\n",
       "        <td>Sauber</td>\n",
       "        <td>8513533</td>\n",
       "    </tr>\n",
       "</table>"
      ],
      "text/plain": [
       "[('hamilton', 'Mercedes', Decimal('12428578')),\n",
       " ('rosberg', 'Mercedes', Decimal('12390412')),\n",
       " ('perez', 'Force India', Decimal('11876732')),\n",
       " ('massa', 'Williams', Decimal('11874456')),\n",
       " ('ricciardo', 'Red Bull', Decimal('11816929')),\n",
       " ('button', 'McLaren', Decimal('11800713')),\n",
       " ('bottas', 'Williams', Decimal('10665109')),\n",
       " ('hulkenberg', 'Force India', Decimal('10198930')),\n",
       " ('vettel', 'Ferrari', Decimal('9248461')),\n",
       " ('nasr', 'Sauber', Decimal('8513533'))]"
      ]
     },
     "execution_count": 65,
     "metadata": {},
     "output_type": "execute_result"
    }
   ],
   "source": [
    "%%sql SELECT \n",
    "    cf.driver as driver_ref,\n",
    "    cf.constructor as constructor_name,\n",
    "    sum(pt.milliseconds)\n",
    "FROM constructor_finished as cf\n",
    "INNER JOIN (SELECT \n",
    "                pitstop_times.driver_ref as pt_driverref,\n",
    "                pitstop_times.driver_id as pt_driverid,\n",
    "                pitstop_times.milliseconds,\n",
    "                pitstop_times.race_id, \n",
    "                results.constructorid, \n",
    "                constructors.name \n",
    "            FROM pitstop_times\n",
    "            JOIN results ON results.raceid = pitstop_times.race_id\n",
    "            AND results.driverid = pitstop_times.driver_id\n",
    "            JOIN constructors ON constructors.constructorid = results.constructorid\n",
    "           ) as pt\n",
    "ON pt.pt_driverref = cf.driver AND pt.name = cf.constructor\n",
    "GROUP BY (cf.driver, cf.constructor)\n",
    "ORDER BY sum DESC\n",
    "LIMIT 10;"
   ]
  },
  {
   "cell_type": "markdown",
   "metadata": {},
   "source": [
    "### 6. As a last thing we want to find the driver with the least pistop time. However we want to control for the amount of races (see explanation below), so we need to include one last column: the average pitstop time per race. Your table should be sorted based on the ascending values of that average pitstop time.\n",
    "    A. Explanation: If we just count the pitstop time, we only get the total time he spend in a workshop, no matter how many races he participated in. If a driver participated in 100 races, he would have more pitstop time than a driver participating in one race!\n",
    "    B. Hint: Use the sum function to accumulate the total pistop time and divide that with the amount of races the driver has participated in"
   ]
  },
  {
   "cell_type": "code",
   "execution_count": 68,
   "metadata": {},
   "outputs": [
    {
     "name": "stdout",
     "output_type": "stream",
     "text": [
      "10 rows affected.\n"
     ]
    },
    {
     "data": {
      "text/html": [
       "<table>\n",
       "    <tr>\n",
       "        <th>driver_ref</th>\n",
       "        <th>avg</th>\n",
       "    </tr>\n",
       "    <tr>\n",
       "        <td>gasly</td>\n",
       "        <td>25044.000000000000</td>\n",
       "    </tr>\n",
       "    <tr>\n",
       "        <td>giovinazzi</td>\n",
       "        <td>29017.000000000000</td>\n",
       "    </tr>\n",
       "    <tr>\n",
       "        <td>glock</td>\n",
       "        <td>49466.555555555556</td>\n",
       "    </tr>\n",
       "    <tr>\n",
       "        <td>merhi</td>\n",
       "        <td>49585.230769230769</td>\n",
       "    </tr>\n",
       "    <tr>\n",
       "        <td>pic</td>\n",
       "        <td>52173.405405405405</td>\n",
       "    </tr>\n",
       "    <tr>\n",
       "        <td>karthikeyan</td>\n",
       "        <td>52388.291666666667</td>\n",
       "    </tr>\n",
       "    <tr>\n",
       "        <td>resta</td>\n",
       "        <td>52736.224137931034</td>\n",
       "    </tr>\n",
       "    <tr>\n",
       "        <td>michael_schumacher</td>\n",
       "        <td>53388.105263157895</td>\n",
       "    </tr>\n",
       "    <tr>\n",
       "        <td>rosa</td>\n",
       "        <td>54951.235294117647</td>\n",
       "    </tr>\n",
       "    <tr>\n",
       "        <td>petrov</td>\n",
       "        <td>55713.297297297297</td>\n",
       "    </tr>\n",
       "</table>"
      ],
      "text/plain": [
       "[('gasly', Decimal('25044.000000000000')),\n",
       " ('giovinazzi', Decimal('29017.000000000000')),\n",
       " ('glock', Decimal('49466.555555555556')),\n",
       " ('merhi', Decimal('49585.230769230769')),\n",
       " ('pic', Decimal('52173.405405405405')),\n",
       " ('karthikeyan', Decimal('52388.291666666667')),\n",
       " ('resta', Decimal('52736.224137931034')),\n",
       " ('michael_schumacher', Decimal('53388.105263157895')),\n",
       " ('rosa', Decimal('54951.235294117647')),\n",
       " ('petrov', Decimal('55713.297297297297'))]"
      ]
     },
     "execution_count": 68,
     "metadata": {},
     "output_type": "execute_result"
    }
   ],
   "source": [
    "%sql SELECT driver_ref, AVG(milliseconds) FROM pitstop_times GROUP BY (driver_ref) ORDER BY avg ASC LIMIT 10;"
   ]
  }
 ],
 "metadata": {
  "kernelspec": {
   "display_name": "Python 3",
   "language": "python",
   "name": "python3"
  },
  "language_info": {
   "codemirror_mode": {
    "name": "ipython",
    "version": 3
   },
   "file_extension": ".py",
   "mimetype": "text/x-python",
   "name": "python",
   "nbconvert_exporter": "python",
   "pygments_lexer": "ipython3",
   "version": "3.6.3"
  }
 },
 "nbformat": 4,
 "nbformat_minor": 2
}
