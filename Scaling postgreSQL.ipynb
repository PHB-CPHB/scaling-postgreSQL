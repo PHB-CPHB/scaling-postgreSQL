{
 "cells": [
  {
   "cell_type": "code",
   "execution_count": 1,
   "metadata": {},
   "outputs": [
    {
     "data": {
      "text/plain": [
       "'Connected: appdev@appdev'"
      ]
     },
     "execution_count": 1,
     "metadata": {},
     "output_type": "execute_result"
    }
   ],
   "source": [
    "%load_ext sql\n",
    "%sql postgresql://appdev@data:5432/appdev"
   ]
  },
  {
   "cell_type": "code",
   "execution_count": 78,
   "metadata": {},
   "outputs": [
    {
     "name": "stdout",
     "output_type": "stream",
     "text": [
      "13 rows affected.\n"
     ]
    },
    {
     "data": {
      "text/html": [
       "<table>\n",
       "    <tr>\n",
       "        <th>table_catalog</th>\n",
       "        <th>table_schema</th>\n",
       "        <th>table_name</th>\n",
       "        <th>table_type</th>\n",
       "        <th>self_referencing_column_name</th>\n",
       "        <th>reference_generation</th>\n",
       "        <th>user_defined_type_catalog</th>\n",
       "        <th>user_defined_type_schema</th>\n",
       "        <th>user_defined_type_name</th>\n",
       "        <th>is_insertable_into</th>\n",
       "        <th>is_typed</th>\n",
       "        <th>commit_action</th>\n",
       "    </tr>\n",
       "    <tr>\n",
       "        <td>appdev</td>\n",
       "        <td>f1db</td>\n",
       "        <td>circuits</td>\n",
       "        <td>BASE TABLE</td>\n",
       "        <td>None</td>\n",
       "        <td>None</td>\n",
       "        <td>None</td>\n",
       "        <td>None</td>\n",
       "        <td>None</td>\n",
       "        <td>YES</td>\n",
       "        <td>NO</td>\n",
       "        <td>None</td>\n",
       "    </tr>\n",
       "    <tr>\n",
       "        <td>appdev</td>\n",
       "        <td>f1db</td>\n",
       "        <td>constructorresults</td>\n",
       "        <td>BASE TABLE</td>\n",
       "        <td>None</td>\n",
       "        <td>None</td>\n",
       "        <td>None</td>\n",
       "        <td>None</td>\n",
       "        <td>None</td>\n",
       "        <td>YES</td>\n",
       "        <td>NO</td>\n",
       "        <td>None</td>\n",
       "    </tr>\n",
       "    <tr>\n",
       "        <td>appdev</td>\n",
       "        <td>f1db</td>\n",
       "        <td>constructors</td>\n",
       "        <td>BASE TABLE</td>\n",
       "        <td>None</td>\n",
       "        <td>None</td>\n",
       "        <td>None</td>\n",
       "        <td>None</td>\n",
       "        <td>None</td>\n",
       "        <td>YES</td>\n",
       "        <td>NO</td>\n",
       "        <td>None</td>\n",
       "    </tr>\n",
       "    <tr>\n",
       "        <td>appdev</td>\n",
       "        <td>f1db</td>\n",
       "        <td>constructorstandings</td>\n",
       "        <td>BASE TABLE</td>\n",
       "        <td>None</td>\n",
       "        <td>None</td>\n",
       "        <td>None</td>\n",
       "        <td>None</td>\n",
       "        <td>None</td>\n",
       "        <td>YES</td>\n",
       "        <td>NO</td>\n",
       "        <td>None</td>\n",
       "    </tr>\n",
       "    <tr>\n",
       "        <td>appdev</td>\n",
       "        <td>f1db</td>\n",
       "        <td>drivers</td>\n",
       "        <td>BASE TABLE</td>\n",
       "        <td>None</td>\n",
       "        <td>None</td>\n",
       "        <td>None</td>\n",
       "        <td>None</td>\n",
       "        <td>None</td>\n",
       "        <td>YES</td>\n",
       "        <td>NO</td>\n",
       "        <td>None</td>\n",
       "    </tr>\n",
       "    <tr>\n",
       "        <td>appdev</td>\n",
       "        <td>f1db</td>\n",
       "        <td>driverstandings</td>\n",
       "        <td>BASE TABLE</td>\n",
       "        <td>None</td>\n",
       "        <td>None</td>\n",
       "        <td>None</td>\n",
       "        <td>None</td>\n",
       "        <td>None</td>\n",
       "        <td>YES</td>\n",
       "        <td>NO</td>\n",
       "        <td>None</td>\n",
       "    </tr>\n",
       "    <tr>\n",
       "        <td>appdev</td>\n",
       "        <td>f1db</td>\n",
       "        <td>laptimes</td>\n",
       "        <td>BASE TABLE</td>\n",
       "        <td>None</td>\n",
       "        <td>None</td>\n",
       "        <td>None</td>\n",
       "        <td>None</td>\n",
       "        <td>None</td>\n",
       "        <td>YES</td>\n",
       "        <td>NO</td>\n",
       "        <td>None</td>\n",
       "    </tr>\n",
       "    <tr>\n",
       "        <td>appdev</td>\n",
       "        <td>f1db</td>\n",
       "        <td>pitstops</td>\n",
       "        <td>BASE TABLE</td>\n",
       "        <td>None</td>\n",
       "        <td>None</td>\n",
       "        <td>None</td>\n",
       "        <td>None</td>\n",
       "        <td>None</td>\n",
       "        <td>YES</td>\n",
       "        <td>NO</td>\n",
       "        <td>None</td>\n",
       "    </tr>\n",
       "    <tr>\n",
       "        <td>appdev</td>\n",
       "        <td>f1db</td>\n",
       "        <td>qualifying</td>\n",
       "        <td>BASE TABLE</td>\n",
       "        <td>None</td>\n",
       "        <td>None</td>\n",
       "        <td>None</td>\n",
       "        <td>None</td>\n",
       "        <td>None</td>\n",
       "        <td>YES</td>\n",
       "        <td>NO</td>\n",
       "        <td>None</td>\n",
       "    </tr>\n",
       "    <tr>\n",
       "        <td>appdev</td>\n",
       "        <td>f1db</td>\n",
       "        <td>races</td>\n",
       "        <td>BASE TABLE</td>\n",
       "        <td>None</td>\n",
       "        <td>None</td>\n",
       "        <td>None</td>\n",
       "        <td>None</td>\n",
       "        <td>None</td>\n",
       "        <td>YES</td>\n",
       "        <td>NO</td>\n",
       "        <td>None</td>\n",
       "    </tr>\n",
       "    <tr>\n",
       "        <td>appdev</td>\n",
       "        <td>f1db</td>\n",
       "        <td>results</td>\n",
       "        <td>BASE TABLE</td>\n",
       "        <td>None</td>\n",
       "        <td>None</td>\n",
       "        <td>None</td>\n",
       "        <td>None</td>\n",
       "        <td>None</td>\n",
       "        <td>YES</td>\n",
       "        <td>NO</td>\n",
       "        <td>None</td>\n",
       "    </tr>\n",
       "    <tr>\n",
       "        <td>appdev</td>\n",
       "        <td>f1db</td>\n",
       "        <td>seasons</td>\n",
       "        <td>BASE TABLE</td>\n",
       "        <td>None</td>\n",
       "        <td>None</td>\n",
       "        <td>None</td>\n",
       "        <td>None</td>\n",
       "        <td>None</td>\n",
       "        <td>YES</td>\n",
       "        <td>NO</td>\n",
       "        <td>None</td>\n",
       "    </tr>\n",
       "    <tr>\n",
       "        <td>appdev</td>\n",
       "        <td>f1db</td>\n",
       "        <td>status</td>\n",
       "        <td>BASE TABLE</td>\n",
       "        <td>None</td>\n",
       "        <td>None</td>\n",
       "        <td>None</td>\n",
       "        <td>None</td>\n",
       "        <td>None</td>\n",
       "        <td>YES</td>\n",
       "        <td>NO</td>\n",
       "        <td>None</td>\n",
       "    </tr>\n",
       "</table>"
      ],
      "text/plain": [
       "[('appdev', 'f1db', 'circuits', 'BASE TABLE', None, None, None, None, None, 'YES', 'NO', None),\n",
       " ('appdev', 'f1db', 'constructorresults', 'BASE TABLE', None, None, None, None, None, 'YES', 'NO', None),\n",
       " ('appdev', 'f1db', 'constructors', 'BASE TABLE', None, None, None, None, None, 'YES', 'NO', None),\n",
       " ('appdev', 'f1db', 'constructorstandings', 'BASE TABLE', None, None, None, None, None, 'YES', 'NO', None),\n",
       " ('appdev', 'f1db', 'drivers', 'BASE TABLE', None, None, None, None, None, 'YES', 'NO', None),\n",
       " ('appdev', 'f1db', 'driverstandings', 'BASE TABLE', None, None, None, None, None, 'YES', 'NO', None),\n",
       " ('appdev', 'f1db', 'laptimes', 'BASE TABLE', None, None, None, None, None, 'YES', 'NO', None),\n",
       " ('appdev', 'f1db', 'pitstops', 'BASE TABLE', None, None, None, None, None, 'YES', 'NO', None),\n",
       " ('appdev', 'f1db', 'qualifying', 'BASE TABLE', None, None, None, None, None, 'YES', 'NO', None),\n",
       " ('appdev', 'f1db', 'races', 'BASE TABLE', None, None, None, None, None, 'YES', 'NO', None),\n",
       " ('appdev', 'f1db', 'results', 'BASE TABLE', None, None, None, None, None, 'YES', 'NO', None),\n",
       " ('appdev', 'f1db', 'seasons', 'BASE TABLE', None, None, None, None, None, 'YES', 'NO', None),\n",
       " ('appdev', 'f1db', 'status', 'BASE TABLE', None, None, None, None, None, 'YES', 'NO', None)]"
      ]
     },
     "execution_count": 78,
     "metadata": {},
     "output_type": "execute_result"
    }
   ],
   "source": [
    "%sql SELECT * from information_schema.tables WHERE table_schema = 'f1db';"
   ]
  },
  {
   "cell_type": "markdown",
   "metadata": {},
   "source": [
    "# Scaling PostgreSQL\n",
    "## Database Assignment 7 (Not Mandatory)\n",
    "\n",
    "### 1. Using a single join and a grouping, write a query that allows you to find the forename, surname, driverid and the total number of wins for each driver in the f1db schema."
   ]
  },
  {
   "cell_type": "code",
   "execution_count": 121,
   "metadata": {},
   "outputs": [
    {
     "name": "stdout",
     "output_type": "stream",
     "text": [
      "5 rows affected.\n"
     ]
    },
    {
     "data": {
      "text/html": [
       "<table>\n",
       "    <tr>\n",
       "        <th>driverid</th>\n",
       "        <th>forename</th>\n",
       "        <th>surname</th>\n",
       "        <th>wins</th>\n",
       "    </tr>\n",
       "    <tr>\n",
       "        <td>30</td>\n",
       "        <td>Michael</td>\n",
       "        <td>Schumacher</td>\n",
       "        <td>91</td>\n",
       "    </tr>\n",
       "    <tr>\n",
       "        <td>1</td>\n",
       "        <td>Lewis</td>\n",
       "        <td>Hamilton</td>\n",
       "        <td>60</td>\n",
       "    </tr>\n",
       "    <tr>\n",
       "        <td>117</td>\n",
       "        <td>Alain</td>\n",
       "        <td>Prost</td>\n",
       "        <td>51</td>\n",
       "    </tr>\n",
       "    <tr>\n",
       "        <td>20</td>\n",
       "        <td>Sebastian</td>\n",
       "        <td>Vettel</td>\n",
       "        <td>46</td>\n",
       "    </tr>\n",
       "    <tr>\n",
       "        <td>102</td>\n",
       "        <td>Ayrton</td>\n",
       "        <td>Senna</td>\n",
       "        <td>41</td>\n",
       "    </tr>\n",
       "</table>"
      ],
      "text/plain": [
       "[(30, 'Michael', 'Schumacher', 91),\n",
       " (1, 'Lewis', 'Hamilton', 60),\n",
       " (117, 'Alain', 'Prost', 51),\n",
       " (20, 'Sebastian', 'Vettel', 46),\n",
       " (102, 'Ayrton', 'Senna', 41)]"
      ]
     },
     "execution_count": 121,
     "metadata": {},
     "output_type": "execute_result"
    }
   ],
   "source": [
    "%%sql SELECT \n",
    "    drivers.driverid as driverId,\n",
    "    drivers.forename as forename,\n",
    "    drivers.surname as surname,\n",
    "    count(results.position) as wins\n",
    "FROM drivers\n",
    "JOIN results USING (driverid)\n",
    "WHERE results.position = 1 \n",
    "GROUP BY (drivers.driverid) \n",
    "ORDER BY wins DESC\n",
    "LIMIT 5;"
   ]
  },
  {
   "cell_type": "markdown",
   "metadata": {},
   "source": [
    "### 2. Write a query that joins the tables results, constructors and drivers to show the amount of times a driver has driven a car from a constructor. In other words how many times one driver (for instance Schumacher) has driven a constructor (for instance Mercedes). Your table should have three fields: drivers.driverref, constructors.name and count(*) (showing the number of times the driver has driven the constructor).\n",
    "Hint: You can group on more than one value"
   ]
  },
  {
   "cell_type": "code",
   "execution_count": 122,
   "metadata": {},
   "outputs": [
    {
     "name": "stdout",
     "output_type": "stream",
     "text": [
      "5 rows affected.\n"
     ]
    },
    {
     "data": {
      "text/html": [
       "<table>\n",
       "    <tr>\n",
       "        <th>driver</th>\n",
       "        <th>constructor</th>\n",
       "        <th>time</th>\n",
       "    </tr>\n",
       "    <tr>\n",
       "        <td>michael_schumacher</td>\n",
       "        <td>Ferrari</td>\n",
       "        <td>181</td>\n",
       "    </tr>\n",
       "    <tr>\n",
       "        <td>coulthard</td>\n",
       "        <td>McLaren</td>\n",
       "        <td>150</td>\n",
       "    </tr>\n",
       "    <tr>\n",
       "        <td>massa</td>\n",
       "        <td>Ferrari</td>\n",
       "        <td>140</td>\n",
       "    </tr>\n",
       "    <tr>\n",
       "        <td>button</td>\n",
       "        <td>McLaren</td>\n",
       "        <td>137</td>\n",
       "    </tr>\n",
       "    <tr>\n",
       "        <td>rosberg</td>\n",
       "        <td>Mercedes</td>\n",
       "        <td>136</td>\n",
       "    </tr>\n",
       "</table>"
      ],
      "text/plain": [
       "[('michael_schumacher', 'Ferrari', 181),\n",
       " ('coulthard', 'McLaren', 150),\n",
       " ('massa', 'Ferrari', 140),\n",
       " ('button', 'McLaren', 137),\n",
       " ('rosberg', 'Mercedes', 136)]"
      ]
     },
     "execution_count": 122,
     "metadata": {},
     "output_type": "execute_result"
    }
   ],
   "source": [
    "%%sql SELECT \n",
    "    drivers.driverref as driver,\n",
    "    constructors.name as constructor,\n",
    "    count(*) as time\n",
    "FROM drivers\n",
    "JOIN results USING (driverid)\n",
    "JOIN constructors USING (constructorid)\n",
    "GROUP BY (constructors.name, drivers.driverref) \n",
    "ORDER BY time DESC\n",
    "LIMIT 5;"
   ]
  },
  {
   "cell_type": "markdown",
   "metadata": {},
   "source": [
    "### 3. Now we have found the most driven vehicles even for those who didn't finish the race. Extend the query from 2 by removing all tuples from the result where the status is not \"Finished\"."
   ]
  },
  {
   "cell_type": "code",
   "execution_count": 123,
   "metadata": {},
   "outputs": [
    {
     "name": "stdout",
     "output_type": "stream",
     "text": [
      "5 rows affected.\n"
     ]
    },
    {
     "data": {
      "text/html": [
       "<table>\n",
       "    <tr>\n",
       "        <th>driver</th>\n",
       "        <th>constructor</th>\n",
       "        <th>time</th>\n",
       "    </tr>\n",
       "    <tr>\n",
       "        <td>michael_schumacher</td>\n",
       "        <td>Ferrari</td>\n",
       "        <td>141</td>\n",
       "    </tr>\n",
       "    <tr>\n",
       "        <td>massa</td>\n",
       "        <td>Ferrari</td>\n",
       "        <td>112</td>\n",
       "    </tr>\n",
       "    <tr>\n",
       "        <td>rosberg</td>\n",
       "        <td>Mercedes</td>\n",
       "        <td>109</td>\n",
       "    </tr>\n",
       "    <tr>\n",
       "        <td>webber</td>\n",
       "        <td>Red Bull</td>\n",
       "        <td>100</td>\n",
       "    </tr>\n",
       "    <tr>\n",
       "        <td>vettel</td>\n",
       "        <td>Red Bull</td>\n",
       "        <td>97</td>\n",
       "    </tr>\n",
       "</table>"
      ],
      "text/plain": [
       "[('michael_schumacher', 'Ferrari', 141),\n",
       " ('massa', 'Ferrari', 112),\n",
       " ('rosberg', 'Mercedes', 109),\n",
       " ('webber', 'Red Bull', 100),\n",
       " ('vettel', 'Red Bull', 97)]"
      ]
     },
     "execution_count": 123,
     "metadata": {},
     "output_type": "execute_result"
    }
   ],
   "source": [
    "%%sql SELECT \n",
    "    drivers.driverref as driver,\n",
    "    constructors.name as constructor,\n",
    "    count(*) as time\n",
    "FROM drivers\n",
    "JOIN results USING (driverid)\n",
    "JOIN constructors USING (constructorid)\n",
    "WHERE results.statusid = 1\n",
    "GROUP BY (constructors.name, drivers.driverref) \n",
    "ORDER BY time DESC\n",
    "LIMIT 5;"
   ]
  },
  {
   "cell_type": "markdown",
   "metadata": {},
   "source": [
    "### 4. Create a third (and new) query that finds the amount of milliseconds spent in pitstop (see the pitstops relation) by each unique combinations of driverid and raceid.\n",
    "Hint: use the sum aggregate function to find the total amount of milliseconds\n",
    "Hint: i recommend making this into a view"
   ]
  },
  {
   "cell_type": "code",
   "execution_count": 125,
   "metadata": {},
   "outputs": [
    {
     "name": "stdout",
     "output_type": "stream",
     "text": [
      "Done.\n"
     ]
    },
    {
     "data": {
      "text/plain": [
       "[]"
      ]
     },
     "execution_count": 125,
     "metadata": {},
     "output_type": "execute_result"
    }
   ],
   "source": [
    "%%sql CREATE VIEW pitstop_times AS SELECT \n",
    "    drivers.driverid as driver_id,\n",
    "    races.raceid as race_id,\n",
    "    count(pitstops.driverid) as times,\n",
    "    sum(pitstops.milliseconds) as milliseconds\n",
    "FROM drivers\n",
    "JOIN pitstops USING (driverid)\n",
    "JOIN races USING (raceid)\n",
    "GROUP BY (drivers.driverid, races.raceid);"
   ]
  },
  {
   "cell_type": "code",
   "execution_count": 128,
   "metadata": {},
   "outputs": [
    {
     "name": "stdout",
     "output_type": "stream",
     "text": [
      "5 rows affected.\n"
     ]
    },
    {
     "data": {
      "text/html": [
       "<table>\n",
       "    <tr>\n",
       "        <th>driver_id</th>\n",
       "        <th>race_id</th>\n",
       "        <th>times</th>\n",
       "        <th>milliseconds</th>\n",
       "    </tr>\n",
       "    <tr>\n",
       "        <td>817</td>\n",
       "        <td>967</td>\n",
       "        <td>5</td>\n",
       "        <td>3572090</td>\n",
       "    </tr>\n",
       "    <tr>\n",
       "        <td>18</td>\n",
       "        <td>967</td>\n",
       "        <td>5</td>\n",
       "        <td>3569001</td>\n",
       "    </tr>\n",
       "    <tr>\n",
       "        <td>830</td>\n",
       "        <td>967</td>\n",
       "        <td>5</td>\n",
       "        <td>3563738</td>\n",
       "    </tr>\n",
       "    <tr>\n",
       "        <td>13</td>\n",
       "        <td>967</td>\n",
       "        <td>4</td>\n",
       "        <td>3554774</td>\n",
       "    </tr>\n",
       "    <tr>\n",
       "        <td>826</td>\n",
       "        <td>967</td>\n",
       "        <td>4</td>\n",
       "        <td>3546767</td>\n",
       "    </tr>\n",
       "</table>"
      ],
      "text/plain": [
       "[(817, 967, 5, Decimal('3572090')),\n",
       " (18, 967, 5, Decimal('3569001')),\n",
       " (830, 967, 5, Decimal('3563738')),\n",
       " (13, 967, 4, Decimal('3554774')),\n",
       " (826, 967, 4, Decimal('3546767'))]"
      ]
     },
     "execution_count": 128,
     "metadata": {},
     "output_type": "execute_result"
    }
   ],
   "source": [
    "%sql SELECT * FROM pitstop_times ORDER BY milliseconds DESC LIMIT 5 ;"
   ]
  },
  {
   "cell_type": "markdown",
   "metadata": {},
   "source": [
    "### 5. Time to put everything together. Use the query for 4 as a join subquery in query 3 (see slides on \"a query within a query\") to find the total amount of pitstop time, for each result in query 3"
   ]
  },
  {
   "cell_type": "code",
   "execution_count": 144,
   "metadata": {},
   "outputs": [
    {
     "name": "stdout",
     "output_type": "stream",
     "text": [
      "(psycopg2.ProgrammingError) syntax error at or near \"WHERE\"\n",
      "LINE 11: WHERE results.statusid = 1\n",
      "         ^\n",
      " [SQL: 'SELECT \\n    drivers.driverref as driver,\\n    constructors.name as constructor,\\n    count(*) as time,\\n    pitstop_times.times as pitstop_times,\\n    pitstop_times.millisecond as pitstop_milliseconds\\nFROM drivers\\nINNER JOIN (SELECT * FROM pitstop_times) as pitstop_times\\nJOIN results USING (driverid)\\nJOIN constructors USING (constructorid)\\nWHERE results.statusid = 1\\nGROUP BY (constructors.name, drivers.driverref) \\nORDER BY time DESC\\nLIMIT 5;']\n"
     ]
    }
   ],
   "source": [
    "%%sql SELECT \n",
    "    drivers.driverref as driver,\n",
    "    constructors.name as constructor,\n",
    "    count(*) as time,\n",
    "    pitstop_times.times as pitstop_times,\n",
    "    pitstop_times.millisecond as pitstop_milliseconds\n",
    "FROM drivers\n",
    "INNER JOIN (SELECT * FROM pitstop_times) as pitstop_times\n",
    "JOIN results USING (driverid)\n",
    "JOIN constructors USING (constructorid)\n",
    "WHERE results.statusid = 1 and \n",
    "GROUP BY (constructors.name, drivers.driverref) \n",
    "ORDER BY time DESC\n",
    "LIMIT 5;"
   ]
  },
  {
   "cell_type": "markdown",
   "metadata": {},
   "source": [
    "### 6. As a last thing we want to find the driver with the least pistop time. However we want to control for the amount of races (see explanation below), so we need to include one last column: the average pitstop time per race. Your table should be sorted based on the ascending values of that average pitstop time.\n",
    "    A. Explanation: If we just count the pitstop time, we only get the total time he spend in a workshop, no matter how many races he participated in. If a driver participated in 100 races, he would have more pitstop time than a driver participating in one race!\n",
    "    B. Hint: Use the sum function to accumulate the total pistop time and divide that with the amount of races the driver has participated in"
   ]
  },
  {
   "cell_type": "code",
   "execution_count": null,
   "metadata": {},
   "outputs": [],
   "source": []
  }
 ],
 "metadata": {
  "kernelspec": {
   "display_name": "Python 3",
   "language": "python",
   "name": "python3"
  },
  "language_info": {
   "codemirror_mode": {
    "name": "ipython",
    "version": 3
   },
   "file_extension": ".py",
   "mimetype": "text/x-python",
   "name": "python",
   "nbconvert_exporter": "python",
   "pygments_lexer": "ipython3",
   "version": "3.6.3"
  }
 },
 "nbformat": 4,
 "nbformat_minor": 2
}
